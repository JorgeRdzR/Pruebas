{
  "nbformat": 4,
  "nbformat_minor": 0,
  "metadata": {
    "colab": {
      "name": "Caso 4. Regresión Lineal Simple.ipynb",
      "provenance": [],
      "collapsed_sections": [],
      "include_colab_link": true
    },
    "kernelspec": {
      "name": "python3",
      "display_name": "Python 3"
    },
    "language_info": {
      "name": "python"
    }
  },
  "cells": [
    {
      "cell_type": "markdown",
      "metadata": {
        "id": "view-in-github",
        "colab_type": "text"
      },
      "source": [
        "<a href=\"https://colab.research.google.com/github/JorgeRdzR/Pruebas/blob/main/Caso_4_Regresi%C3%B3n_Lineal_Simple.ipynb\" target=\"_parent\"><img src=\"https://colab.research.google.com/assets/colab-badge.svg\" alt=\"Open In Colab\"/></a>"
      ]
    },
    {
      "cell_type": "markdown",
      "metadata": {
        "id": "Ss2fcm20fpoL"
      },
      "source": [
        "# Caso 4. Regresión Lineal Simple\n",
        "\n",
        "## Objetivo \n",
        "\n",
        "Realizar una tarea de predicción de casos confirmados mediante el algoritmo de machine learnig de regresión lineal simple.\n",
        "\n",
        "## Descripción\n",
        "\n",
        "* Cargar datos de cantidad de habitantes de una pobación y sus casos confirmados de COVID.\n",
        "Los datos son casos confirmados en periodo de 02-02-2020 al 18-09-2021 en formado DD-MM-AAAA (dia-mes-año).\n",
        "* Archivo csv localizado en: [github](https://raw.githubusercontent.com/rpizarrog/Analisis-Inteligente-de-datos/main/datos/poblacion%20confirmados.csv).\n",
        "* Fuente obtenida de datos del gobierno de México de [texto del vínculo](https://datos.covid-19.conacyt.mx/#DownZCSV).\n",
        "* Explorar los datos.\n",
        "* Definir la varible independiente y la variable dependiente.\n",
        "* Aplicar el modelo de regresión lineal simple.\n",
        "* Evaluar el modelo, con error cuadrado medio y su significado.\n",
        "* Hacer estimaciones para una cirta cantidad de población para determinar cuantos casos confirmados serían. Son Predicciones.\n",
        "\n",
        "\n",
        "\n",
        "\n",
        "## Fundamento Teórico\n",
        "\n",
        "Pendiente\n"
      ]
    },
    {
      "cell_type": "markdown",
      "metadata": {
        "id": "sqK2gpC3hQCJ"
      },
      "source": [
        "## Desarrollo\n",
        "\n",
        "### Librerías\n",
        "\n",
        "\n"
      ]
    },
    {
      "cell_type": "code",
      "metadata": {
        "id": "wbsCXxXxhps8"
      },
      "source": [
        "# Datos\n",
        "import numpy as np\n",
        "import pandas as pd\n",
        "import seaborn as sb\n",
        "\n",
        "# Gráficos\n",
        "import matplotlib.pyplot as plt\n",
        "%matplotlib inline\n",
        "from mpl_toolkits.mplot3d import Axes3D\n",
        "from matplotlib import cm\n",
        "plt.rcParams['figure.figsize'] = (16, 9)\n",
        "plt.style.use('ggplot')\n",
        "\n",
        "# Regresiones lineales\n",
        "from sklearn import linear_model\n",
        "from sklearn.metrics import mean_squared_error, r2_score"
      ],
      "execution_count": 1,
      "outputs": []
    },
    {
      "cell_type": "markdown",
      "metadata": {
        "id": "PwPpOYrJiAT1"
      },
      "source": [
        "### Cargar los datos\n",
        "\n"
      ]
    },
    {
      "cell_type": "code",
      "metadata": {
        "colab": {
          "base_uri": "https://localhost:8080/"
        },
        "id": "luJBWu3RiYSE",
        "outputId": "25b467e9-20a9-4cf0-ffc6-dd56a968186e"
      },
      "source": [
        "\n",
        "datos = pd.read_csv(\"https://raw.githubusercontent.com/rpizarrog/Analisis-Inteligente-de-datos/main/datos/poblacion%20confirmados.csv\")\n",
        "\n",
        "datos.shape # La estructura de los datos \n",
        "\n"
      ],
      "execution_count": 2,
      "outputs": [
        {
          "output_type": "execute_result",
          "data": {
            "text/plain": [
              "(32, 4)"
            ]
          },
          "metadata": {},
          "execution_count": 2
        }
      ]
    },
    {
      "cell_type": "code",
      "metadata": {
        "colab": {
          "base_uri": "https://localhost:8080/",
          "height": 297
        },
        "id": "6YYt8kKLilAt",
        "outputId": "62700b33-cbe3-42fc-dc49-2058a3835e38"
      },
      "source": [
        "datos[[\"poblacion\", \"confirmados\"]].describe() # Estadísticos elementales"
      ],
      "execution_count": 3,
      "outputs": [
        {
          "output_type": "execute_result",
          "data": {
            "text/html": [
              "<div>\n",
              "<style scoped>\n",
              "    .dataframe tbody tr th:only-of-type {\n",
              "        vertical-align: middle;\n",
              "    }\n",
              "\n",
              "    .dataframe tbody tr th {\n",
              "        vertical-align: top;\n",
              "    }\n",
              "\n",
              "    .dataframe thead th {\n",
              "        text-align: right;\n",
              "    }\n",
              "</style>\n",
              "<table border=\"1\" class=\"dataframe\">\n",
              "  <thead>\n",
              "    <tr style=\"text-align: right;\">\n",
              "      <th></th>\n",
              "      <th>poblacion</th>\n",
              "      <th>confirmados</th>\n",
              "    </tr>\n",
              "  </thead>\n",
              "  <tbody>\n",
              "    <tr>\n",
              "      <th>count</th>\n",
              "      <td>3.200000e+01</td>\n",
              "      <td>32.000000</td>\n",
              "    </tr>\n",
              "    <tr>\n",
              "      <th>mean</th>\n",
              "      <td>3.993509e+06</td>\n",
              "      <td>111552.406250</td>\n",
              "    </tr>\n",
              "    <tr>\n",
              "      <th>std</th>\n",
              "      <td>3.339196e+06</td>\n",
              "      <td>162782.981721</td>\n",
              "    </tr>\n",
              "    <tr>\n",
              "      <th>min</th>\n",
              "      <td>7.851530e+05</td>\n",
              "      <td>21443.000000</td>\n",
              "    </tr>\n",
              "    <tr>\n",
              "      <th>25%</th>\n",
              "      <td>1.832562e+06</td>\n",
              "      <td>46325.000000</td>\n",
              "    </tr>\n",
              "    <tr>\n",
              "      <th>50%</th>\n",
              "      <td>3.121544e+06</td>\n",
              "      <td>69892.500000</td>\n",
              "    </tr>\n",
              "    <tr>\n",
              "      <th>75%</th>\n",
              "      <td>5.021589e+06</td>\n",
              "      <td>107953.250000</td>\n",
              "    </tr>\n",
              "    <tr>\n",
              "      <th>max</th>\n",
              "      <td>1.742779e+07</td>\n",
              "      <td>931135.000000</td>\n",
              "    </tr>\n",
              "  </tbody>\n",
              "</table>\n",
              "</div>"
            ],
            "text/plain": [
              "          poblacion    confirmados\n",
              "count  3.200000e+01      32.000000\n",
              "mean   3.993509e+06  111552.406250\n",
              "std    3.339196e+06  162782.981721\n",
              "min    7.851530e+05   21443.000000\n",
              "25%    1.832562e+06   46325.000000\n",
              "50%    3.121544e+06   69892.500000\n",
              "75%    5.021589e+06  107953.250000\n",
              "max    1.742779e+07  931135.000000"
            ]
          },
          "metadata": {},
          "execution_count": 3
        }
      ]
    },
    {
      "cell_type": "code",
      "metadata": {
        "colab": {
          "base_uri": "https://localhost:8080/",
          "height": 1000
        },
        "id": "j2JZETRQiswz",
        "outputId": "c3431320-094c-4aa7-f11d-968c7879c2d7"
      },
      "source": [
        "datos"
      ],
      "execution_count": 4,
      "outputs": [
        {
          "output_type": "execute_result",
          "data": {
            "text/html": [
              "<div>\n",
              "<style scoped>\n",
              "    .dataframe tbody tr th:only-of-type {\n",
              "        vertical-align: middle;\n",
              "    }\n",
              "\n",
              "    .dataframe tbody tr th {\n",
              "        vertical-align: top;\n",
              "    }\n",
              "\n",
              "    .dataframe thead th {\n",
              "        text-align: right;\n",
              "    }\n",
              "</style>\n",
              "<table border=\"1\" class=\"dataframe\">\n",
              "  <thead>\n",
              "    <tr style=\"text-align: right;\">\n",
              "      <th></th>\n",
              "      <th>cve_ent</th>\n",
              "      <th>nombre</th>\n",
              "      <th>poblacion</th>\n",
              "      <th>confirmados</th>\n",
              "    </tr>\n",
              "  </thead>\n",
              "  <tbody>\n",
              "    <tr>\n",
              "      <th>0</th>\n",
              "      <td>1</td>\n",
              "      <td>AGUASCALIENTES</td>\n",
              "      <td>1434635</td>\n",
              "      <td>32795</td>\n",
              "    </tr>\n",
              "    <tr>\n",
              "      <th>1</th>\n",
              "      <td>2</td>\n",
              "      <td>BAJA CALIFORNIA</td>\n",
              "      <td>3634868</td>\n",
              "      <td>59049</td>\n",
              "    </tr>\n",
              "    <tr>\n",
              "      <th>2</th>\n",
              "      <td>3</td>\n",
              "      <td>BAJA CALIFORNIA SUR</td>\n",
              "      <td>804708</td>\n",
              "      <td>54730</td>\n",
              "    </tr>\n",
              "    <tr>\n",
              "      <th>3</th>\n",
              "      <td>4</td>\n",
              "      <td>CAMPECHE</td>\n",
              "      <td>1000617</td>\n",
              "      <td>21961</td>\n",
              "    </tr>\n",
              "    <tr>\n",
              "      <th>4</th>\n",
              "      <td>7</td>\n",
              "      <td>CHIAPAS</td>\n",
              "      <td>5730367</td>\n",
              "      <td>21443</td>\n",
              "    </tr>\n",
              "    <tr>\n",
              "      <th>5</th>\n",
              "      <td>8</td>\n",
              "      <td>CHIHUAHUA</td>\n",
              "      <td>3801487</td>\n",
              "      <td>64386</td>\n",
              "    </tr>\n",
              "    <tr>\n",
              "      <th>6</th>\n",
              "      <td>9</td>\n",
              "      <td>DISTRITO FEDERAL</td>\n",
              "      <td>9018645</td>\n",
              "      <td>931135</td>\n",
              "    </tr>\n",
              "    <tr>\n",
              "      <th>7</th>\n",
              "      <td>5</td>\n",
              "      <td>COAHUILA</td>\n",
              "      <td>3218720</td>\n",
              "      <td>86766</td>\n",
              "    </tr>\n",
              "    <tr>\n",
              "      <th>8</th>\n",
              "      <td>6</td>\n",
              "      <td>COLIMA</td>\n",
              "      <td>785153</td>\n",
              "      <td>30069</td>\n",
              "    </tr>\n",
              "    <tr>\n",
              "      <th>9</th>\n",
              "      <td>10</td>\n",
              "      <td>DURANGO</td>\n",
              "      <td>1868996</td>\n",
              "      <td>46394</td>\n",
              "    </tr>\n",
              "    <tr>\n",
              "      <th>10</th>\n",
              "      <td>11</td>\n",
              "      <td>GUANAJUATO</td>\n",
              "      <td>6228175</td>\n",
              "      <td>166331</td>\n",
              "    </tr>\n",
              "    <tr>\n",
              "      <th>11</th>\n",
              "      <td>12</td>\n",
              "      <td>GUERRERO</td>\n",
              "      <td>3657048</td>\n",
              "      <td>73397</td>\n",
              "    </tr>\n",
              "    <tr>\n",
              "      <th>12</th>\n",
              "      <td>13</td>\n",
              "      <td>HIDALGO</td>\n",
              "      <td>3086414</td>\n",
              "      <td>58760</td>\n",
              "    </tr>\n",
              "    <tr>\n",
              "      <th>13</th>\n",
              "      <td>14</td>\n",
              "      <td>JALISCO</td>\n",
              "      <td>8409693</td>\n",
              "      <td>148185</td>\n",
              "    </tr>\n",
              "    <tr>\n",
              "      <th>14</th>\n",
              "      <td>15</td>\n",
              "      <td>MEXICO</td>\n",
              "      <td>17427790</td>\n",
              "      <td>353717</td>\n",
              "    </tr>\n",
              "    <tr>\n",
              "      <th>15</th>\n",
              "      <td>16</td>\n",
              "      <td>MICHOACAN</td>\n",
              "      <td>4825401</td>\n",
              "      <td>69115</td>\n",
              "    </tr>\n",
              "    <tr>\n",
              "      <th>16</th>\n",
              "      <td>17</td>\n",
              "      <td>MORELOS</td>\n",
              "      <td>2044058</td>\n",
              "      <td>46118</td>\n",
              "    </tr>\n",
              "    <tr>\n",
              "      <th>17</th>\n",
              "      <td>18</td>\n",
              "      <td>NAYARIT</td>\n",
              "      <td>1288571</td>\n",
              "      <td>31851</td>\n",
              "    </tr>\n",
              "    <tr>\n",
              "      <th>18</th>\n",
              "      <td>19</td>\n",
              "      <td>NUEVO LEON</td>\n",
              "      <td>5610153</td>\n",
              "      <td>192059</td>\n",
              "    </tr>\n",
              "    <tr>\n",
              "      <th>19</th>\n",
              "      <td>20</td>\n",
              "      <td>OAXACA</td>\n",
              "      <td>4143593</td>\n",
              "      <td>73852</td>\n",
              "    </tr>\n",
              "    <tr>\n",
              "      <th>20</th>\n",
              "      <td>21</td>\n",
              "      <td>PUEBLA</td>\n",
              "      <td>6604451</td>\n",
              "      <td>115456</td>\n",
              "    </tr>\n",
              "    <tr>\n",
              "      <th>21</th>\n",
              "      <td>22</td>\n",
              "      <td>QUERETARO</td>\n",
              "      <td>2279637</td>\n",
              "      <td>90915</td>\n",
              "    </tr>\n",
              "    <tr>\n",
              "      <th>22</th>\n",
              "      <td>23</td>\n",
              "      <td>QUINTANA ROO</td>\n",
              "      <td>1723259</td>\n",
              "      <td>57020</td>\n",
              "    </tr>\n",
              "    <tr>\n",
              "      <th>23</th>\n",
              "      <td>24</td>\n",
              "      <td>SAN LUIS POTOSI</td>\n",
              "      <td>2866142</td>\n",
              "      <td>96746</td>\n",
              "    </tr>\n",
              "    <tr>\n",
              "      <th>24</th>\n",
              "      <td>25</td>\n",
              "      <td>SINALOA</td>\n",
              "      <td>3156674</td>\n",
              "      <td>70670</td>\n",
              "    </tr>\n",
              "    <tr>\n",
              "      <th>25</th>\n",
              "      <td>26</td>\n",
              "      <td>SONORA</td>\n",
              "      <td>3074745</td>\n",
              "      <td>105906</td>\n",
              "    </tr>\n",
              "    <tr>\n",
              "      <th>26</th>\n",
              "      <td>27</td>\n",
              "      <td>TABASCO</td>\n",
              "      <td>2572287</td>\n",
              "      <td>128415</td>\n",
              "    </tr>\n",
              "    <tr>\n",
              "      <th>27</th>\n",
              "      <td>28</td>\n",
              "      <td>TAMAULIPAS</td>\n",
              "      <td>3650602</td>\n",
              "      <td>93751</td>\n",
              "    </tr>\n",
              "    <tr>\n",
              "      <th>28</th>\n",
              "      <td>29</td>\n",
              "      <td>TLAXCALA</td>\n",
              "      <td>1380011</td>\n",
              "      <td>27541</td>\n",
              "    </tr>\n",
              "    <tr>\n",
              "      <th>29</th>\n",
              "      <td>30</td>\n",
              "      <td>VERACRUZ</td>\n",
              "      <td>8539862</td>\n",
              "      <td>114095</td>\n",
              "    </tr>\n",
              "    <tr>\n",
              "      <th>30</th>\n",
              "      <td>31</td>\n",
              "      <td>YUCATAN</td>\n",
              "      <td>2259098</td>\n",
              "      <td>67103</td>\n",
              "    </tr>\n",
              "    <tr>\n",
              "      <th>31</th>\n",
              "      <td>32</td>\n",
              "      <td>ZACATECAS</td>\n",
              "      <td>1666426</td>\n",
              "      <td>39946</td>\n",
              "    </tr>\n",
              "  </tbody>\n",
              "</table>\n",
              "</div>"
            ],
            "text/plain": [
              "    cve_ent               nombre  poblacion  confirmados\n",
              "0         1       AGUASCALIENTES    1434635        32795\n",
              "1         2      BAJA CALIFORNIA    3634868        59049\n",
              "2         3  BAJA CALIFORNIA SUR     804708        54730\n",
              "3         4             CAMPECHE    1000617        21961\n",
              "4         7              CHIAPAS    5730367        21443\n",
              "5         8            CHIHUAHUA    3801487        64386\n",
              "6         9     DISTRITO FEDERAL    9018645       931135\n",
              "7         5             COAHUILA    3218720        86766\n",
              "8         6               COLIMA     785153        30069\n",
              "9        10              DURANGO    1868996        46394\n",
              "10       11           GUANAJUATO    6228175       166331\n",
              "11       12             GUERRERO    3657048        73397\n",
              "12       13              HIDALGO    3086414        58760\n",
              "13       14              JALISCO    8409693       148185\n",
              "14       15               MEXICO   17427790       353717\n",
              "15       16            MICHOACAN    4825401        69115\n",
              "16       17              MORELOS    2044058        46118\n",
              "17       18              NAYARIT    1288571        31851\n",
              "18       19           NUEVO LEON    5610153       192059\n",
              "19       20               OAXACA    4143593        73852\n",
              "20       21               PUEBLA    6604451       115456\n",
              "21       22            QUERETARO    2279637        90915\n",
              "22       23         QUINTANA ROO    1723259        57020\n",
              "23       24      SAN LUIS POTOSI    2866142        96746\n",
              "24       25              SINALOA    3156674        70670\n",
              "25       26               SONORA    3074745       105906\n",
              "26       27              TABASCO    2572287       128415\n",
              "27       28           TAMAULIPAS    3650602        93751\n",
              "28       29             TLAXCALA    1380011        27541\n",
              "29       30             VERACRUZ    8539862       114095\n",
              "30       31              YUCATAN    2259098        67103\n",
              "31       32            ZACATECAS    1666426        39946"
            ]
          },
          "metadata": {},
          "execution_count": 4
        }
      ]
    },
    {
      "cell_type": "markdown",
      "metadata": {
        "id": "p7SzHXlajYeM"
      },
      "source": [
        "### Visualización de datos\n",
        "\n",
        "#### Histograma\n",
        "\n",
        "Se visualizan los histogramas únicamente de las variables numericas dependiente e independiente.\n",
        "\n"
      ]
    },
    {
      "cell_type": "code",
      "metadata": {
        "colab": {
          "base_uri": "https://localhost:8080/",
          "height": 295
        },
        "id": "x9i4fdB0nDV6",
        "outputId": "1e91c0aa-b8ea-4efe-a31e-fa213e959857"
      },
      "source": [
        "# datos.drop(['cve_ent','nombre'],1).hist()\n",
        "datos[[\"poblacion\", \"confirmados\"]].hist()\n",
        "plt.show()"
      ],
      "execution_count": 5,
      "outputs": [
        {
          "output_type": "display_data",
          "data": {
            "image/png": "[encoded data removed]",
            "text/plain": [
              "<Figure size 432x288 with 2 Axes>"
            ]
          },
          "metadata": {
            "needs_background": "light"
          }
        }
      ]
    },
    {
      "cell_type": "markdown",
      "metadata": {
        "id": "52SFvMropnk9"
      },
      "source": [
        "Las variables no tienen un comportamiento gaussinado o que parten de una distribución normal lo que conlleva a dudar de si vale la pena aplicar regresión lienal simple."
      ]
    },
    {
      "cell_type": "markdown",
      "metadata": {
        "id": "wwKolBC6qd5F"
      },
      "source": [
        "Diagrama de dispersión\n"
      ]
    },
    {
      "cell_type": "code",
      "metadata": {
        "colab": {
          "base_uri": "https://localhost:8080/",
          "height": 278
        },
        "id": "B1Y7H2OEqf5E",
        "outputId": "ed38eaba-d0c2-461e-b059-e44670620d45"
      },
      "source": [
        "plt.scatter(datos['poblacion'], datos['confirmados'], c='blue')\n",
        "plt.show()"
      ],
      "execution_count": 6,
      "outputs": [
        {
          "output_type": "display_data",
          "data": {
            "image/png": "[encoded data removed]",
            "text/plain": [
              "<Figure size 432x288 with 1 Axes>"
            ]
          },
          "metadata": {
            "needs_background": "light"
          }
        }
      ]
    },
    {
      "cell_type": "markdown",
      "metadata": {
        "id": "u70KsAdljf60"
      },
      "source": [
        "### Aplicar modelos de regresión\n",
        "\n",
        "Se utiliza la función linear_model.LinearRegression() para construir la regresión lineal.\n",
        "\n",
        "Se almacena la regresiín en una variable llamada regr\n",
        "\n",
        "Se construye un modelo de entrenamiento con todos los datos."
      ]
    },
    {
      "cell_type": "code",
      "metadata": {
        "colab": {
          "base_uri": "https://localhost:8080/"
        },
        "id": "fy1r2dg7j4AB",
        "outputId": "63680363-3cf2-4543-e223-2df39bb77771"
      },
      "source": [
        "regr = linear_model.LinearRegression()\n",
        "X_train = np.array(datos['poblacion'])\n",
        "\n",
        "X_train\n",
        "\n",
        "y_train = np.array(datos['confirmados'])\n",
        "y_train\n",
        "\n",
        "\n",
        "\n",
        "\n"
      ],
      "execution_count": 7,
      "outputs": [
        {
          "output_type": "execute_result",
          "data": {
            "text/plain": [
              "array([ 32795,  59049,  54730,  21961,  21443,  64386, 931135,  86766,\n",
              "        30069,  46394, 166331,  73397,  58760, 148185, 353717,  69115,\n",
              "        46118,  31851, 192059,  73852, 115456,  90915,  57020,  96746,\n",
              "        70670, 105906, 128415,  93751,  27541, 114095,  67103,  39946])"
            ]
          },
          "metadata": {},
          "execution_count": 7
        }
      ]
    },
    {
      "cell_type": "code",
      "metadata": {
        "colab": {
          "base_uri": "https://localhost:8080/"
        },
        "id": "orgYaGMPk_Aw",
        "outputId": "e6a05439-75fe-4cfc-dacc-ceda4d13558f"
      },
      "source": [
        "regr.fit(X_train.reshape(-1, 1), y_train)"
      ],
      "execution_count": 8,
      "outputs": [
        {
          "output_type": "execute_result",
          "data": {
            "text/plain": [
              "LinearRegression(copy_X=True, fit_intercept=True, n_jobs=None, normalize=False)"
            ]
          },
          "metadata": {},
          "execution_count": 8
        }
      ]
    },
    {
      "cell_type": "markdown",
      "metadata": {
        "id": "8yF4uP2DnOKa"
      },
      "source": [
        "### Objeto de prediccion\n",
        "\n",
        "Se construye objeto de prediccion para construir la recta lineal\n",
        "\n"
      ]
    },
    {
      "cell_type": "code",
      "metadata": {
        "colab": {
          "base_uri": "https://localhost:8080/"
        },
        "id": "YxbXNqmVnU_w",
        "outputId": "69d574a3-9afe-43b6-e548-1b4175df81fe"
      },
      "source": [
        "y_pred = regr.predict(X_train.reshape(-1, 1))\n",
        "y_pred\n"
      ],
      "execution_count": 9,
      "outputs": [
        {
          "output_type": "execute_result",
          "data": {
            "text/plain": [
              "array([ 39204.94607726, 101412.49253176,  21394.91726874,  26933.88437739,\n",
              "       160658.87752275, 106123.33869338, 253628.89771621,  89646.67225639,\n",
              "        20842.03556443,  51485.70547207, 174733.4842964 , 102039.59128919,\n",
              "        85905.96314003, 236411.8985036 , 491382.02578499, 135072.62620993,\n",
              "        56435.26194969,  35075.25478305, 157260.04749453, 115795.75742692,\n",
              "       185371.99701288,  63095.82543829,  47365.25950219,  79678.17695892,\n",
              "        87892.43557904,  85576.04359988,  71369.96661784, 101857.34247989,\n",
              "        37660.5528164 , 240092.18787042,  62515.12294149,  45758.41082405])"
            ]
          },
          "metadata": {},
          "execution_count": 9
        }
      ]
    },
    {
      "cell_type": "markdown",
      "metadata": {
        "id": "hbIFftAQjj68"
      },
      "source": [
        "### Evaluar el modelo\n",
        "\n",
        "Se muestran los valores de los coeficientes de la ecuación \n",
        "\n",
        "$$\n",
        "Y = \\beta0 + \\beta1\\cdot{x_i}\n",
        "$$"
      ]
    },
    {
      "cell_type": "code",
      "metadata": {
        "colab": {
          "base_uri": "https://localhost:8080/"
        },
        "id": "1zPeaxXYoDby",
        "outputId": "2b69df9f-a4a0-4355-c280-4cb6142c5f43"
      },
      "source": [
        "print('Coefficients: \\n', regr.coef_)\n",
        "\n",
        "# Este es el valor donde corta el eje Y (en X=0)\n",
        "print('Independent term: \\n', regr.intercept_)\n",
        " \n",
        "# Error Cuadrado Medio\n",
        "print(\"Mean squared error: %.2f\" % mean_squared_error(y_train, y_pred))\n",
        " \n",
        "# Puntaje de Varianza. El mejor puntaje es un 1.0\n",
        "print('Variance score: %.2f' % r2_score(y_train, y_pred))"
      ],
      "execution_count": 10,
      "outputs": [
        {
          "output_type": "stream",
          "name": "stdout",
          "text": [
            "Coefficients: \n",
            " [0.02827316]\n",
            "Independent term: \n",
            " -1356.7232585593447\n",
            "Mean squared error: 17035583585.45\n",
            "Variance score: 0.34\n"
          ]
        }
      ]
    },
    {
      "cell_type": "code",
      "metadata": {
        "id": "ff5i_Cwku9mQ"
      },
      "source": [
        ""
      ],
      "execution_count": 10,
      "outputs": []
    },
    {
      "cell_type": "markdown",
      "metadata": {
        "id": "8sFMTuQwpjM4"
      },
      "source": [
        "$$ \\beta0 = -1356.7232585593447$$\n",
        "$$\\beta1 = 0.02827316$$\n"
      ]
    },
    {
      "cell_type": "markdown",
      "metadata": {
        "id": "E8xicShGoztQ"
      },
      "source": [
        "$$\n",
        "Y = -1356.7232585593447 + 0.02827316 \\cdot{x_i}\n",
        "$$"
      ]
    },
    {
      "cell_type": "markdown",
      "metadata": {
        "id": "MMTQmKt5jlrE"
      },
      "source": [
        "¿Cuántos casos confirmados debiera para una pobción 500000\n",
        "\n"
      ]
    },
    {
      "cell_type": "markdown",
      "metadata": {
        "id": "IyaeBIc9pJzR"
      },
      "source": [
        "$$ Y = -1356.7232585593447 + 0.02827316 \\times{500000}$$\n",
        "$$ 12779.86 = -1356.7232585593447 + 0.02827316 \\times{500000} $$\n"
      ]
    },
    {
      "cell_type": "markdown",
      "metadata": {
        "id": "r7B7mN3urnqS"
      },
      "source": [
        "### Visualizar recta\n",
        "\n",
        "\n",
        "\n"
      ]
    },
    {
      "cell_type": "code",
      "metadata": {
        "colab": {
          "base_uri": "https://localhost:8080/",
          "height": 278
        },
        "id": "tDr56_HLsdaB",
        "outputId": "9bff05d8-049e-43f9-e292-71f7af0c4968"
      },
      "source": [
        "plt.scatter(datos['poblacion'], datos['confirmados'], c='blue')\n",
        "plt.plot(X_train, y_pred, c='green')\n",
        "plt.show()"
      ],
      "execution_count": 11,
      "outputs": [
        {
          "output_type": "display_data",
          "data": {
            "image/png": "[encoded data removed]",
            "text/plain": [
              "<Figure size 432x288 with 1 Axes>"
            ]
          },
          "metadata": {
            "needs_background": "light"
          }
        }
      ]
    },
    {
      "cell_type": "markdown",
      "metadata": {
        "id": "nrgKyGWsjlxt"
      },
      "source": [
        "### Predecir valores\n",
        "\n",
        "¿Cual es la prediccion de casos confirmados para una pobacion de 500000?\n",
        "\n",
        "¿Cual es la prediccion de casos confirmados para una pobacion de 1,000,000?\n",
        "\n",
        "¿Cual es la prediccion de casos confirmados para una pobacion de 2,000,000?\n",
        "\n",
        "\n",
        "\n",
        "\n"
      ]
    },
    {
      "cell_type": "code",
      "metadata": {
        "colab": {
          "base_uri": "https://localhost:8080/"
        },
        "id": "iPKhmqf7q_mS",
        "outputId": "238866b2-9bb4-4308-c856-1d35da76d82d"
      },
      "source": [
        "prediccion = regr.predict([[500000]])\n",
        "print(int(prediccion))\n"
      ],
      "execution_count": 12,
      "outputs": [
        {
          "output_type": "stream",
          "name": "stdout",
          "text": [
            "12779\n"
          ]
        }
      ]
    },
    {
      "cell_type": "code",
      "metadata": {
        "colab": {
          "base_uri": "https://localhost:8080/"
        },
        "id": "UqjbM5dnUsKI",
        "outputId": "8169b1c3-15e8-41ef-b138-7abf8a001ca1"
      },
      "source": [
        "prediccion = regr.predict([[1000000]])\n",
        "print(int(prediccion))\n"
      ],
      "execution_count": 13,
      "outputs": [
        {
          "output_type": "stream",
          "name": "stdout",
          "text": [
            "26916\n"
          ]
        }
      ]
    },
    {
      "cell_type": "code",
      "metadata": {
        "colab": {
          "base_uri": "https://localhost:8080/"
        },
        "id": "4TMPCFlxUw4Q",
        "outputId": "7063c7d2-7ace-4c95-f943-dd1d7130a0a7"
      },
      "source": [
        "prediccion = regr.predict([[2000000]])\n",
        "print(int(prediccion))\n"
      ],
      "execution_count": 14,
      "outputs": [
        {
          "output_type": "stream",
          "name": "stdout",
          "text": [
            "55189\n"
          ]
        }
      ]
    },
    {
      "cell_type": "markdown",
      "metadata": {
        "id": "66LGb3sQukni"
      },
      "source": [
        "## Interpretación\n",
        "La regresión lineal nos aayuda con predicciones por medio de los minimos cuadrados, para ello debemos identificar $ b0$ y $b1$ que nos permite hacer las predicciones para culaquier valor de  $x_i$.\n",
        "Para este caso se utilizaron diferentes librerias, para gráficar y para hacer los cálculos. Primero se hizo un histograma de población Vs confirmados, despues un diagrama de dispersión para despues aplicar el modelo de regresión, se evalua el modelo con la formula:$\n",
        "Y = \\beta0 + \\beta1\\cdot{x_i}\n",
        "$ \n",
        "visualizamos la recta y empezamos a predecir valores, dando como resultado:\n",
        "\n",
        "\n",
        "* Para una poblacion de 500,000: 12779\n",
        "* Para una población de 1,000,000: 26916\n",
        "* Para una población de 2,000,000: 55189\n",
        "\n",
        "El objetivo de un modelo de regresión es tratar de explicar la relación que existe entre una\n",
        "variable dependiente (variable respuesta) Y un conjunto de variables independientes (variables\n",
        "explicativas) $X_1,..., X_n.$\n",
        "\n",
        "\n"
      ]
    }
  ]
}