{
  "nbformat": 4,
  "nbformat_minor": 0,
  "metadata": {
    "colab": {
      "name": "Caso 5. Regresión Lineal Simple pob conf municipios.ipynb",
      "provenance": [],
      "collapsed_sections": [],
      "include_colab_link": true
    },
    "kernelspec": {
      "name": "python3",
      "display_name": "Python 3"
    },
    "language_info": {
      "name": "python"
    }
  },
  "cells": [
    {
      "cell_type": "markdown",
      "metadata": {
        "id": "view-in-github",
        "colab_type": "text"
      },
      "source": [
        "<a href=\"https://colab.research.google.com/github/JorgeRdzR/Pruebas/blob/main/Caso_5_Regresi%C3%B3n_Lineal_Simple_pob_conf_municipios.ipynb\" target=\"_parent\"><img src=\"https://colab.research.google.com/assets/colab-badge.svg\" alt=\"Open In Colab\"/></a>"
      ]
    },
    {
      "cell_type": "markdown",
      "metadata": {
        "id": "Ss2fcm20fpoL"
      },
      "source": [
        "# Caso 5. Regresión Lineal Simple. Datos de poblacion y confirmados de Municipios\n",
        "\n",
        "## Objetivo \n",
        "\n",
        "Realizar una tarea de predicción de casos confirmados en datos de municipois de la República Mexicana mediante el algoritmo de machine learnig de regresión lineal simple.\n",
        "\n",
        "## Descripción\n",
        "\n",
        "* Cargar datos de cantidad de habitantes de una población de municipios y sus casos confirmados de COVID.\n",
        "Los datos son casos confirmados en periodo de 02-02-2020 al 18-09-2021 en formado DD-MM-AAAA (dia-mes-año).\n",
        "* Archivo csv localizado en: [github](https://raw.githubusercontent.com/rpizarrog/Analisis-Inteligente-de-datos/main/datos/poblacion%20confirmados%20municipio.csv).\n",
        "* Fuente obtenida de datos del gobierno de México de [texto del vínculo](https://datos.covid-19.conacyt.mx/#DownZCSV).\n",
        "* Explorar los datos.\n",
        "* Definir la varible independiente y la variable dependiente.\n",
        "* Aplicar el modelo de regresión lineal simple.\n",
        "* Evaluar el modelo, con error cuadrado medio y su significado.\n",
        "* Hacer estimaciones para una cirta cantidad de población para determinar cuantos casos confirmados serían."
      ]
    },
    {
      "cell_type": "markdown",
      "metadata": {
        "id": "sqK2gpC3hQCJ"
      },
      "source": [
        "## Desarrollo\n",
        "\n",
        "### Librerías\n",
        "\n",
        "\n"
      ]
    },
    {
      "cell_type": "code",
      "metadata": {
        "id": "wbsCXxXxhps8"
      },
      "source": [
        "# Datos\n",
        "import numpy as np\n",
        "import pandas as pd\n",
        "import seaborn as sb\n",
        "\n",
        "# Gráficos\n",
        "import matplotlib.pyplot as plt\n",
        "%matplotlib inline\n",
        "from mpl_toolkits.mplot3d import Axes3D\n",
        "from matplotlib import cm\n",
        "plt.rcParams['figure.figsize'] = (16, 9)\n",
        "plt.style.use('ggplot')\n",
        "\n",
        "# Regresiones lineales\n",
        "from sklearn import linear_model\n",
        "from sklearn.metrics import mean_squared_error, r2_score"
      ],
      "execution_count": 1,
      "outputs": []
    },
    {
      "cell_type": "markdown",
      "metadata": {
        "id": "PwPpOYrJiAT1"
      },
      "source": [
        "### Cargar los datos\n",
        "\n"
      ]
    },
    {
      "cell_type": "code",
      "metadata": {
        "colab": {
          "base_uri": "https://localhost:8080/"
        },
        "id": "luJBWu3RiYSE",
        "outputId": "d9a55286-623d-4162-c6a3-592680f92fcd"
      },
      "source": [
        "\n",
        "datos = pd.read_csv(\"https://raw.githubusercontent.com/rpizarrog/Analisis-Inteligente-de-datos/main/datos/poblacion%20confirmados%20municipio.csv\")\n",
        "\n",
        "datos.shape # La estructura de los datos \n",
        "\n"
      ],
      "execution_count": 2,
      "outputs": [
        {
          "output_type": "execute_result",
          "data": {
            "text/plain": [
              "(2457, 4)"
            ]
          },
          "metadata": {},
          "execution_count": 2
        }
      ]
    },
    {
      "cell_type": "code",
      "metadata": {
        "colab": {
          "base_uri": "https://localhost:8080/",
          "height": 297
        },
        "id": "6YYt8kKLilAt",
        "outputId": "e7ca6bd0-bfbe-41a4-8a64-cc9b59e550df"
      },
      "source": [
        "datos[[\"poblacion\", \"confirmados\"]].describe() # Estadísticos elementales"
      ],
      "execution_count": 3,
      "outputs": [
        {
          "output_type": "execute_result",
          "data": {
            "text/html": [
              "<div>\n",
              "<style scoped>\n",
              "    .dataframe tbody tr th:only-of-type {\n",
              "        vertical-align: middle;\n",
              "    }\n",
              "\n",
              "    .dataframe tbody tr th {\n",
              "        vertical-align: top;\n",
              "    }\n",
              "\n",
              "    .dataframe thead th {\n",
              "        text-align: right;\n",
              "    }\n",
              "</style>\n",
              "<table border=\"1\" class=\"dataframe\">\n",
              "  <thead>\n",
              "    <tr style=\"text-align: right;\">\n",
              "      <th></th>\n",
              "      <th>poblacion</th>\n",
              "      <th>confirmados</th>\n",
              "    </tr>\n",
              "  </thead>\n",
              "  <tbody>\n",
              "    <tr>\n",
              "      <th>count</th>\n",
              "      <td>2.457000e+03</td>\n",
              "      <td>2457.000000</td>\n",
              "    </tr>\n",
              "    <tr>\n",
              "      <th>mean</th>\n",
              "      <td>5.201151e+04</td>\n",
              "      <td>1452.297924</td>\n",
              "    </tr>\n",
              "    <tr>\n",
              "      <th>std</th>\n",
              "      <td>1.475537e+05</td>\n",
              "      <td>7135.481990</td>\n",
              "    </tr>\n",
              "    <tr>\n",
              "      <th>min</th>\n",
              "      <td>9.500000e+01</td>\n",
              "      <td>0.000000</td>\n",
              "    </tr>\n",
              "    <tr>\n",
              "      <th>25%</th>\n",
              "      <td>4.470000e+03</td>\n",
              "      <td>18.000000</td>\n",
              "    </tr>\n",
              "    <tr>\n",
              "      <th>50%</th>\n",
              "      <td>1.413700e+04</td>\n",
              "      <td>87.000000</td>\n",
              "    </tr>\n",
              "    <tr>\n",
              "      <th>75%</th>\n",
              "      <td>3.709900e+04</td>\n",
              "      <td>390.000000</td>\n",
              "    </tr>\n",
              "    <tr>\n",
              "      <th>max</th>\n",
              "      <td>1.815551e+06</td>\n",
              "      <td>147221.000000</td>\n",
              "    </tr>\n",
              "  </tbody>\n",
              "</table>\n",
              "</div>"
            ],
            "text/plain": [
              "          poblacion    confirmados\n",
              "count  2.457000e+03    2457.000000\n",
              "mean   5.201151e+04    1452.297924\n",
              "std    1.475537e+05    7135.481990\n",
              "min    9.500000e+01       0.000000\n",
              "25%    4.470000e+03      18.000000\n",
              "50%    1.413700e+04      87.000000\n",
              "75%    3.709900e+04     390.000000\n",
              "max    1.815551e+06  147221.000000"
            ]
          },
          "metadata": {},
          "execution_count": 3
        }
      ]
    },
    {
      "cell_type": "code",
      "metadata": {
        "colab": {
          "base_uri": "https://localhost:8080/",
          "height": 419
        },
        "id": "j2JZETRQiswz",
        "outputId": "4790f044-7328-4231-d7d2-e2fb1a74fdb9"
      },
      "source": [
        "datos"
      ],
      "execution_count": 4,
      "outputs": [
        {
          "output_type": "execute_result",
          "data": {
            "text/html": [
              "<div>\n",
              "<style scoped>\n",
              "    .dataframe tbody tr th:only-of-type {\n",
              "        vertical-align: middle;\n",
              "    }\n",
              "\n",
              "    .dataframe tbody tr th {\n",
              "        vertical-align: top;\n",
              "    }\n",
              "\n",
              "    .dataframe thead th {\n",
              "        text-align: right;\n",
              "    }\n",
              "</style>\n",
              "<table border=\"1\" class=\"dataframe\">\n",
              "  <thead>\n",
              "    <tr style=\"text-align: right;\">\n",
              "      <th></th>\n",
              "      <th>cve_ent</th>\n",
              "      <th>nombre</th>\n",
              "      <th>poblacion</th>\n",
              "      <th>confirmados</th>\n",
              "    </tr>\n",
              "  </thead>\n",
              "  <tbody>\n",
              "    <tr>\n",
              "      <th>0</th>\n",
              "      <td>16046</td>\n",
              "      <td>Juarez</td>\n",
              "      <td>15290</td>\n",
              "      <td>203</td>\n",
              "    </tr>\n",
              "    <tr>\n",
              "      <th>1</th>\n",
              "      <td>16047</td>\n",
              "      <td>Jungapeo</td>\n",
              "      <td>22358</td>\n",
              "      <td>92</td>\n",
              "    </tr>\n",
              "    <tr>\n",
              "      <th>2</th>\n",
              "      <td>16048</td>\n",
              "      <td>Lagunillas</td>\n",
              "      <td>5862</td>\n",
              "      <td>53</td>\n",
              "    </tr>\n",
              "    <tr>\n",
              "      <th>3</th>\n",
              "      <td>16049</td>\n",
              "      <td>Madero</td>\n",
              "      <td>18769</td>\n",
              "      <td>72</td>\n",
              "    </tr>\n",
              "    <tr>\n",
              "      <th>4</th>\n",
              "      <td>5035</td>\n",
              "      <td>Torreon</td>\n",
              "      <td>744247</td>\n",
              "      <td>19402</td>\n",
              "    </tr>\n",
              "    <tr>\n",
              "      <th>...</th>\n",
              "      <td>...</td>\n",
              "      <td>...</td>\n",
              "      <td>...</td>\n",
              "      <td>...</td>\n",
              "    </tr>\n",
              "    <tr>\n",
              "      <th>2452</th>\n",
              "      <td>32053</td>\n",
              "      <td>Villa Gonzalez Ortega</td>\n",
              "      <td>13945</td>\n",
              "      <td>142</td>\n",
              "    </tr>\n",
              "    <tr>\n",
              "      <th>2453</th>\n",
              "      <td>32054</td>\n",
              "      <td>Villa Hidalgo</td>\n",
              "      <td>20177</td>\n",
              "      <td>112</td>\n",
              "    </tr>\n",
              "    <tr>\n",
              "      <th>2454</th>\n",
              "      <td>32055</td>\n",
              "      <td>Villanueva</td>\n",
              "      <td>31804</td>\n",
              "      <td>497</td>\n",
              "    </tr>\n",
              "    <tr>\n",
              "      <th>2455</th>\n",
              "      <td>32056</td>\n",
              "      <td>Zacatecas</td>\n",
              "      <td>155533</td>\n",
              "      <td>9764</td>\n",
              "    </tr>\n",
              "    <tr>\n",
              "      <th>2456</th>\n",
              "      <td>32058</td>\n",
              "      <td>Santa Maria de la Paz</td>\n",
              "      <td>2855</td>\n",
              "      <td>38</td>\n",
              "    </tr>\n",
              "  </tbody>\n",
              "</table>\n",
              "<p>2457 rows × 4 columns</p>\n",
              "</div>"
            ],
            "text/plain": [
              "      cve_ent                 nombre  poblacion  confirmados\n",
              "0       16046                 Juarez      15290          203\n",
              "1       16047               Jungapeo      22358           92\n",
              "2       16048             Lagunillas       5862           53\n",
              "3       16049                 Madero      18769           72\n",
              "4        5035                Torreon     744247        19402\n",
              "...       ...                    ...        ...          ...\n",
              "2452    32053  Villa Gonzalez Ortega      13945          142\n",
              "2453    32054          Villa Hidalgo      20177          112\n",
              "2454    32055             Villanueva      31804          497\n",
              "2455    32056              Zacatecas     155533         9764\n",
              "2456    32058  Santa Maria de la Paz       2855           38\n",
              "\n",
              "[2457 rows x 4 columns]"
            ]
          },
          "metadata": {},
          "execution_count": 4
        }
      ]
    },
    {
      "cell_type": "markdown",
      "metadata": {
        "id": "p7SzHXlajYeM"
      },
      "source": [
        "### Visualización de datos\n",
        "\n",
        "#### Histograma\n",
        "\n",
        "Se visualizan los histogramas únicamente de las variables numericas dependiente e independiente.\n",
        "\n"
      ]
    },
    {
      "cell_type": "code",
      "metadata": {
        "colab": {
          "base_uri": "https://localhost:8080/",
          "height": 295
        },
        "id": "x9i4fdB0nDV6",
        "outputId": "912c64e1-85fb-4a04-df10-82898449d16d"
      },
      "source": [
        "# datos.drop(['cve_ent','nombre'],1).hist()\n",
        "datos[[\"poblacion\", \"confirmados\"]].hist()\n",
        "plt.show()"
      ],
      "execution_count": 5,
      "outputs": [
        {
          "output_type": "display_data",
          "data": {
            "image/png": "[encoded data removed]",
            "text/plain": [
              "<Figure size 432x288 with 2 Axes>"
            ]
          },
          "metadata": {
            "needs_background": "light"
          }
        }
      ]
    },
    {
      "cell_type": "markdown",
      "metadata": {
        "id": "52SFvMropnk9"
      },
      "source": [
        "Las variables no tienen un comportamiento gaussiaado o que parten de una distribución normal lo que conlleva a dudar de si vale la pena aplicar regresión lienal simple.\n",
        "Se recomienda hacer pruebas de normalidad, perndiente ..."
      ]
    },
    {
      "cell_type": "markdown",
      "metadata": {
        "id": "wwKolBC6qd5F"
      },
      "source": [
        "Diagrama de dispersión\n"
      ]
    },
    {
      "cell_type": "code",
      "metadata": {
        "colab": {
          "base_uri": "https://localhost:8080/",
          "height": 278
        },
        "id": "B1Y7H2OEqf5E",
        "outputId": "567f7b4a-0a5f-4bcf-f73f-f2931dd0ae85"
      },
      "source": [
        "plt.scatter(datos['poblacion'], datos['confirmados'], c='blue')\n",
        "plt.show()"
      ],
      "execution_count": 6,
      "outputs": [
        {
          "output_type": "display_data",
          "data": {
            "image/png": "[encoded data removed]",
            "text/plain": [
              "<Figure size 432x288 with 1 Axes>"
            ]
          },
          "metadata": {
            "needs_background": "light"
          }
        }
      ]
    },
    {
      "cell_type": "markdown",
      "metadata": {
        "id": "u70KsAdljf60"
      },
      "source": [
        "### Aplicar modelos de regresión\n",
        "\n",
        "Se utiliza la función linear_model.LinearRegression() para construir la regresión lineal.\n",
        "\n",
        "Se almacena la regresiín en una variable llamada regr\n",
        "\n",
        "Se construye un modelo de entrenamiento con todos los datos."
      ]
    },
    {
      "cell_type": "code",
      "metadata": {
        "colab": {
          "base_uri": "https://localhost:8080/"
        },
        "id": "fy1r2dg7j4AB",
        "outputId": "999d58e5-fcbe-4c06-d71e-5a3c28a1324f"
      },
      "source": [
        "regr = linear_model.LinearRegression()\n",
        "poblacion = np.array(datos['poblacion'])\n",
        "\n",
        "poblacion\n",
        "\n",
        "confirmados = np.array(datos['confirmados'])\n",
        "confirmados\n",
        "\n",
        "\n",
        "\n",
        "\n"
      ],
      "execution_count": 7,
      "outputs": [
        {
          "output_type": "execute_result",
          "data": {
            "text/plain": [
              "array([ 203,   92,   53, ...,  497, 9764,   38])"
            ]
          },
          "metadata": {},
          "execution_count": 7
        }
      ]
    },
    {
      "cell_type": "code",
      "metadata": {
        "colab": {
          "base_uri": "https://localhost:8080/"
        },
        "id": "orgYaGMPk_Aw",
        "outputId": "4cce825f-d341-441e-857f-2fb708423224"
      },
      "source": [
        "regr.fit(poblacion.reshape(-1, 1), confirmados)"
      ],
      "execution_count": 8,
      "outputs": [
        {
          "output_type": "execute_result",
          "data": {
            "text/plain": [
              "LinearRegression(copy_X=True, fit_intercept=True, n_jobs=None, normalize=False)"
            ]
          },
          "metadata": {},
          "execution_count": 8
        }
      ]
    },
    {
      "cell_type": "markdown",
      "metadata": {
        "id": "8yF4uP2DnOKa"
      },
      "source": [
        "### Objeto de prediccion\n",
        "\n",
        "Se construye objeto de prediccion para construir la recta lineal\n",
        "\n"
      ]
    },
    {
      "cell_type": "code",
      "metadata": {
        "colab": {
          "base_uri": "https://localhost:8080/"
        },
        "id": "YxbXNqmVnU_w",
        "outputId": "36510d59-4736-44f8-9d70-45efa35dd516"
      },
      "source": [
        "y_pred = regr.predict(poblacion.reshape(-1, 1))\n",
        "y_pred\n"
      ],
      "execution_count": 9,
      "outputs": [
        {
          "output_type": "execute_result",
          "data": {
            "text/plain": [
              "array([  39.54377041,  311.46466101, -323.17130551, ...,  674.87223495,\n",
              "       5434.98823285, -438.85694756])"
            ]
          },
          "metadata": {},
          "execution_count": 9
        }
      ]
    },
    {
      "cell_type": "markdown",
      "metadata": {
        "id": "hbIFftAQjj68"
      },
      "source": [
        "### Evaluar el modelo\n",
        "\n",
        "Se muestran los valores de los coeficientes de la ecuación \n",
        "\n",
        "$$\n",
        "Y = \\beta0 + \\beta1\\cdot{x_i}\n",
        "$$"
      ]
    },
    {
      "cell_type": "code",
      "metadata": {
        "colab": {
          "base_uri": "https://localhost:8080/"
        },
        "id": "1zPeaxXYoDby",
        "outputId": "7b6fe30f-74d2-4888-a7ab-fc4fb52699db"
      },
      "source": [
        "print('Coefficients: \\n', regr.coef_)\n",
        "\n",
        "# Este es el valor donde corta el eje Y (en X=0)\n",
        "print('Independent term: \\n', regr.intercept_)\n",
        " \n",
        "# Error Cuadrado Medio\n",
        "print(\"Mean squared error: %.2f\" % mean_squared_error(confirmados, y_pred))\n",
        " \n",
        "# Puntaje de Varianza. El mejor puntaje es un 1.0\n",
        "print('Variance score: %.2f' % r2_score(confirmados, y_pred))"
      ],
      "execution_count": 10,
      "outputs": [
        {
          "output_type": "stream",
          "name": "stdout",
          "text": [
            "Coefficients: \n",
            " [0.03847211]\n",
            "Independent term: \n",
            " -548.6948285271917\n",
            "Mean squared error: 18682525.19\n",
            "Variance score: 0.63\n"
          ]
        }
      ]
    },
    {
      "cell_type": "code",
      "metadata": {
        "id": "ff5i_Cwku9mQ"
      },
      "source": [
        ""
      ],
      "execution_count": 10,
      "outputs": []
    },
    {
      "cell_type": "markdown",
      "metadata": {
        "id": "8sFMTuQwpjM4"
      },
      "source": [
        "$$ \\beta0 = -548.6948285271917$$\n",
        "$$\\beta1 = 0.03847211$$\n"
      ]
    },
    {
      "cell_type": "markdown",
      "metadata": {
        "id": "E8xicShGoztQ"
      },
      "source": [
        "$$\n",
        "Y = −548.6948285271917 + 0.0.0.03847211 \\cdot{x_i}\n",
        "$$"
      ]
    },
    {
      "cell_type": "markdown",
      "metadata": {
        "id": "MMTQmKt5jlrE"
      },
      "source": [
        "¿Cuántos casos confirmados debiera para una pobción 500000\n",
        "\n"
      ]
    },
    {
      "cell_type": "markdown",
      "metadata": {
        "id": "IyaeBIc9pJzR"
      },
      "source": [
        "$$ Y = -548.6948285271917 + 0.03847211 \\times{50000}$$\n",
        "$$ 1374.911 = -548.69482852719177 + 0.03847211 \\times{50000} $$\n"
      ]
    },
    {
      "cell_type": "markdown",
      "metadata": {
        "id": "r7B7mN3urnqS"
      },
      "source": [
        "### Visualizar recta\n",
        "\n",
        "\n",
        "\n"
      ]
    },
    {
      "cell_type": "code",
      "metadata": {
        "colab": {
          "base_uri": "https://localhost:8080/",
          "height": 278
        },
        "id": "tDr56_HLsdaB",
        "outputId": "a3d31dd0-8427-494e-834e-3a47bcaa3c4b"
      },
      "source": [
        "plt.scatter(datos['poblacion'], datos['confirmados'], c='blue')\n",
        "plt.plot(poblacion, y_pred, c='green')\n",
        "plt.show()"
      ],
      "execution_count": 11,
      "outputs": [
        {
          "output_type": "display_data",
          "data": {
            "image/png": "[encoded data removed]",
            "text/plain": [
              "<Figure size 432x288 with 1 Axes>"
            ]
          },
          "metadata": {
            "needs_background": "light"
          }
        }
      ]
    },
    {
      "cell_type": "markdown",
      "metadata": {
        "id": "nrgKyGWsjlxt"
      },
      "source": [
        "### Predecir valores\n",
        "\n",
        "¿Cual es la prediccion de casos confirmados para una pobacion de 50,000?\n",
        "\n",
        "¿Cual es la prediccion de casos confirmados para una pobacion de 100,000?\n",
        "\n",
        "¿Cual es la prediccion de casos confirmados para una pobacion de 200,000?"
      ]
    },
    {
      "cell_type": "code",
      "metadata": {
        "colab": {
          "base_uri": "https://localhost:8080/"
        },
        "id": "iPKhmqf7q_mS",
        "outputId": "b1dcc2ba-ffe9-4518-a85b-f5c4e79e3dda"
      },
      "source": [
        "prediccion = regr.predict([[50000]])\n",
        "print(int(prediccion))\n"
      ],
      "execution_count": 12,
      "outputs": [
        {
          "output_type": "stream",
          "name": "stdout",
          "text": [
            "1374\n"
          ]
        }
      ]
    },
    {
      "cell_type": "code",
      "metadata": {
        "colab": {
          "base_uri": "https://localhost:8080/"
        },
        "id": "ZWm1H8jf93s5",
        "outputId": "d6dd7c97-74c9-4c91-eb79-631b111355af"
      },
      "source": [
        "prediccion = regr.predict([[100000]])\n",
        "print(int(prediccion))"
      ],
      "execution_count": 13,
      "outputs": [
        {
          "output_type": "stream",
          "name": "stdout",
          "text": [
            "3298\n"
          ]
        }
      ]
    },
    {
      "cell_type": "code",
      "metadata": {
        "colab": {
          "base_uri": "https://localhost:8080/"
        },
        "id": "DFVce7Js94Yk",
        "outputId": "22d1dfba-bb65-48ab-e772-b715b719ddbe"
      },
      "source": [
        "prediccion = regr.predict([[250000]])\n",
        "print(int(prediccion))"
      ],
      "execution_count": 14,
      "outputs": [
        {
          "output_type": "stream",
          "name": "stdout",
          "text": [
            "9069\n"
          ]
        }
      ]
    },
    {
      "cell_type": "code",
      "metadata": {
        "colab": {
          "base_uri": "https://localhost:8080/"
        },
        "id": "2r0icOyl4jqV",
        "outputId": "71b13a6b-d704-47bf-ea60-549129e9455b"
      },
      "source": [
        "prediccion = regr.predict([[500000]])\n",
        "print(int(prediccion))"
      ],
      "execution_count": 15,
      "outputs": [
        {
          "output_type": "stream",
          "name": "stdout",
          "text": [
            "18687\n"
          ]
        }
      ]
    },
    {
      "cell_type": "code",
      "metadata": {
        "colab": {
          "base_uri": "https://localhost:8080/"
        },
        "id": "66xmAxpA5Gjk",
        "outputId": "75818e40-f43c-4c24-9744-1fd59ef1520e"
      },
      "source": [
        "prediccion = regr.predict([[750000]])\n",
        "print(int(prediccion))"
      ],
      "execution_count": 16,
      "outputs": [
        {
          "output_type": "stream",
          "name": "stdout",
          "text": [
            "28305\n"
          ]
        }
      ]
    },
    {
      "cell_type": "markdown",
      "metadata": {
        "id": "66LGb3sQukni"
      },
      "source": [
        "## Interpretación\n",
        "La regresión lineal nos ayuda con predicciones por medio de los minimos cuadrados, para ello debemos identificar  $b0$   y  $b1$  que nos permite hacer las predicciones para culaquier valor de  xi . Para este caso se utilizaron diferentes librerias, para gráficar y para hacer los cálculos. Primero se hizo un histograma de población Vs confirmados, despues un diagrama de dispersión para despues aplicar el modelo de regresión, se evalua el modelo con la formula: $Y=β0+β1⋅xi$  visualizamos la recta y empezamos a predecir valores, dando como resultado:\n",
        "\n",
        "* Para una poblacion de 500,000: 1374\n",
        "* Para una población de 1000000: 3298\n",
        "* Para una población de 250000: 9069\n",
        "* Para una población de 500000: 18687\n",
        "* Para una población de 750000: 210691\n",
        "\n",
        "Como podemos ver los resultados de las predicciones son menores a los resultados de predicciones por estado.\n",
        "\n",
        "El objetivo de un modelo de regresión es tratar de explicar la relación que existe entre una variable dependiente (variable respuesta) Y un conjunto de variables independientes (variables explicativas)  $X_1,...,X_n.$\n"
      ]
    }
  ]
}