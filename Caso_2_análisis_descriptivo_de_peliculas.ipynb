{
  "nbformat": 4,
  "nbformat_minor": 0,
  "metadata": {
    "colab": {
      "name": "Caso 2 análisis descriptivo de peliculas.ipynb",
      "provenance": [],
      "collapsed_sections": [],
      "authorship_tag": "ABX9TyMOhATzHErzq/OFD+3qo7vm",
      "include_colab_link": true
    },
    "kernelspec": {
      "name": "python3",
      "display_name": "Python 3"
    },
    "language_info": {
      "name": "python"
    }
  },
  "cells": [
    {
      "cell_type": "markdown",
      "metadata": {
        "id": "view-in-github",
        "colab_type": "text"
      },
      "source": [
        "<a href=\"https://colab.research.google.com/github/JorgeRdzR/Pruebas/blob/main/Caso_2_an%C3%A1lisis_descriptivo_de_peliculas.ipynb\" target=\"_parent\"><img src=\"https://colab.research.google.com/assets/colab-badge.svg\" alt=\"Open In Colab\"/></a>"
      ]
    },
    {
      "cell_type": "markdown",
      "metadata": {
        "id": "bnfR7LW8SMNr"
      },
      "source": [
        "# Caso 2. Análisis descriptivo de películas"
      ]
    },
    {
      "cell_type": "markdown",
      "metadata": {
        "id": "TR8fQvUqSXLc"
      },
      "source": [
        "## Objetivo \n",
        "\n",
        "Elaborar un análisis descriptivo de un datos de películas\n",
        "\n",
        "##Descripción\n",
        "\n",
        "1. Cargar los datos de peliculas\n",
        "2.Analizar decriptivamente las variables cuantitativas de duración de película, rating y valor económico para determinar los estadísticos de valores medios, desviaciones estándar, máximos y mínimos de esas variables cuantitativas para su correcta interpretación\n",
        "3.Analizar la frecuncia de los géneros de las películas para conocer las frecuencias de las mismas.\n",
        "4.Visualizar (hacer grácica) mediante diagrama histograma las variables cuantitativas de duración de película, rating y valor económico\n",
        "5.Visualizar (hacer gráfica) mediante diagrama de barra la variable cualitativa género."
      ]
    },
    {
      "cell_type": "markdown",
      "metadata": {
        "id": "8QxtCuBCTWSe"
      },
      "source": [
        "# 1.- Importar los datos\n",
        "Se utliza la función read_csv() de la librería pandas para importar daos en formato csv, importamos los datos con la dirección URL."
      ]
    },
    {
      "cell_type": "code",
      "metadata": {
        "id": "M9sJXdhoTaF1"
      },
      "source": [
        "import pandas as pd\n",
        "peliculas = pd.read_csv(\"https://raw.githubusercontent.com/rpizarrog/Analisis-Inteligente-de-datos/main/datos/movies-db.csv\")"
      ],
      "execution_count": 1,
      "outputs": []
    },
    {
      "cell_type": "markdown",
      "metadata": {
        "id": "Cvz_pK8BUFVK"
      },
      "source": [
        "Vemos el contenido de los datos, podemos ver que hay diferentes variables como el nombre, año, duración,reating, costo en millones entre otras"
      ]
    },
    {
      "cell_type": "code",
      "metadata": {
        "colab": {
          "base_uri": "https://localhost:8080/",
          "height": 979
        },
        "id": "CcmrLaEIT8hQ",
        "outputId": "0078c43e-bffd-4c2b-8da0-dd81e276c00f"
      },
      "source": [
        "peliculas"
      ],
      "execution_count": 2,
      "outputs": [
        {
          "output_type": "execute_result",
          "data": {
            "text/html": [
              "<div>\n",
              "<style scoped>\n",
              "    .dataframe tbody tr th:only-of-type {\n",
              "        vertical-align: middle;\n",
              "    }\n",
              "\n",
              "    .dataframe tbody tr th {\n",
              "        vertical-align: top;\n",
              "    }\n",
              "\n",
              "    .dataframe thead th {\n",
              "        text-align: right;\n",
              "    }\n",
              "</style>\n",
              "<table border=\"1\" class=\"dataframe\">\n",
              "  <thead>\n",
              "    <tr style=\"text-align: right;\">\n",
              "      <th></th>\n",
              "      <th>name</th>\n",
              "      <th>year</th>\n",
              "      <th>length_min</th>\n",
              "      <th>genre</th>\n",
              "      <th>average_rating</th>\n",
              "      <th>cost_millions</th>\n",
              "      <th>foreign</th>\n",
              "      <th>age_restriction</th>\n",
              "    </tr>\n",
              "  </thead>\n",
              "  <tbody>\n",
              "    <tr>\n",
              "      <th>0</th>\n",
              "      <td>Toy Story</td>\n",
              "      <td>1995</td>\n",
              "      <td>81</td>\n",
              "      <td>Animation</td>\n",
              "      <td>8.3</td>\n",
              "      <td>30.0</td>\n",
              "      <td>0</td>\n",
              "      <td>0</td>\n",
              "    </tr>\n",
              "    <tr>\n",
              "      <th>1</th>\n",
              "      <td>Akira</td>\n",
              "      <td>1998</td>\n",
              "      <td>125</td>\n",
              "      <td>Animation</td>\n",
              "      <td>8.1</td>\n",
              "      <td>10.4</td>\n",
              "      <td>1</td>\n",
              "      <td>14</td>\n",
              "    </tr>\n",
              "    <tr>\n",
              "      <th>2</th>\n",
              "      <td>The Breakfast Club</td>\n",
              "      <td>1985</td>\n",
              "      <td>97</td>\n",
              "      <td>Drama</td>\n",
              "      <td>7.9</td>\n",
              "      <td>1.0</td>\n",
              "      <td>0</td>\n",
              "      <td>14</td>\n",
              "    </tr>\n",
              "    <tr>\n",
              "      <th>3</th>\n",
              "      <td>The Artist</td>\n",
              "      <td>2011</td>\n",
              "      <td>100</td>\n",
              "      <td>Romance</td>\n",
              "      <td>8.0</td>\n",
              "      <td>15.0</td>\n",
              "      <td>1</td>\n",
              "      <td>12</td>\n",
              "    </tr>\n",
              "    <tr>\n",
              "      <th>4</th>\n",
              "      <td>Modern Times</td>\n",
              "      <td>1936</td>\n",
              "      <td>87</td>\n",
              "      <td>Comedy</td>\n",
              "      <td>8.6</td>\n",
              "      <td>1.5</td>\n",
              "      <td>0</td>\n",
              "      <td>10</td>\n",
              "    </tr>\n",
              "    <tr>\n",
              "      <th>5</th>\n",
              "      <td>Fight Club</td>\n",
              "      <td>1999</td>\n",
              "      <td>139</td>\n",
              "      <td>Drama</td>\n",
              "      <td>8.9</td>\n",
              "      <td>63.0</td>\n",
              "      <td>0</td>\n",
              "      <td>18</td>\n",
              "    </tr>\n",
              "    <tr>\n",
              "      <th>6</th>\n",
              "      <td>City of God</td>\n",
              "      <td>2002</td>\n",
              "      <td>130</td>\n",
              "      <td>Crime</td>\n",
              "      <td>8.7</td>\n",
              "      <td>3.3</td>\n",
              "      <td>1</td>\n",
              "      <td>18</td>\n",
              "    </tr>\n",
              "    <tr>\n",
              "      <th>7</th>\n",
              "      <td>The Untouchables</td>\n",
              "      <td>1987</td>\n",
              "      <td>119</td>\n",
              "      <td>Drama</td>\n",
              "      <td>7.9</td>\n",
              "      <td>25.0</td>\n",
              "      <td>0</td>\n",
              "      <td>14</td>\n",
              "    </tr>\n",
              "    <tr>\n",
              "      <th>8</th>\n",
              "      <td>Star Wars Episode IV</td>\n",
              "      <td>1977</td>\n",
              "      <td>121</td>\n",
              "      <td>Action</td>\n",
              "      <td>8.7</td>\n",
              "      <td>11.0</td>\n",
              "      <td>0</td>\n",
              "      <td>10</td>\n",
              "    </tr>\n",
              "    <tr>\n",
              "      <th>9</th>\n",
              "      <td>American Beauty</td>\n",
              "      <td>1999</td>\n",
              "      <td>122</td>\n",
              "      <td>Drama</td>\n",
              "      <td>8.4</td>\n",
              "      <td>15.0</td>\n",
              "      <td>0</td>\n",
              "      <td>14</td>\n",
              "    </tr>\n",
              "    <tr>\n",
              "      <th>10</th>\n",
              "      <td>Room</td>\n",
              "      <td>2015</td>\n",
              "      <td>118</td>\n",
              "      <td>Drama</td>\n",
              "      <td>8.3</td>\n",
              "      <td>13.0</td>\n",
              "      <td>1</td>\n",
              "      <td>14</td>\n",
              "    </tr>\n",
              "    <tr>\n",
              "      <th>11</th>\n",
              "      <td>Dr. Strangelove</td>\n",
              "      <td>1964</td>\n",
              "      <td>94</td>\n",
              "      <td>Comedy</td>\n",
              "      <td>8.5</td>\n",
              "      <td>1.8</td>\n",
              "      <td>1</td>\n",
              "      <td>10</td>\n",
              "    </tr>\n",
              "    <tr>\n",
              "      <th>12</th>\n",
              "      <td>The Ring</td>\n",
              "      <td>1998</td>\n",
              "      <td>95</td>\n",
              "      <td>Horror</td>\n",
              "      <td>7.3</td>\n",
              "      <td>1.2</td>\n",
              "      <td>1</td>\n",
              "      <td>18</td>\n",
              "    </tr>\n",
              "    <tr>\n",
              "      <th>13</th>\n",
              "      <td>Monty Python and the Holy Grail</td>\n",
              "      <td>1975</td>\n",
              "      <td>91</td>\n",
              "      <td>Comedy</td>\n",
              "      <td>8.3</td>\n",
              "      <td>0.4</td>\n",
              "      <td>1</td>\n",
              "      <td>18</td>\n",
              "    </tr>\n",
              "    <tr>\n",
              "      <th>14</th>\n",
              "      <td>High School Musical</td>\n",
              "      <td>2006</td>\n",
              "      <td>98</td>\n",
              "      <td>Comedy</td>\n",
              "      <td>5.2</td>\n",
              "      <td>4.2</td>\n",
              "      <td>0</td>\n",
              "      <td>0</td>\n",
              "    </tr>\n",
              "    <tr>\n",
              "      <th>15</th>\n",
              "      <td>Shaun of the Dead</td>\n",
              "      <td>2004</td>\n",
              "      <td>99</td>\n",
              "      <td>Horror</td>\n",
              "      <td>8.0</td>\n",
              "      <td>6.1</td>\n",
              "      <td>1</td>\n",
              "      <td>18</td>\n",
              "    </tr>\n",
              "    <tr>\n",
              "      <th>16</th>\n",
              "      <td>Taxi Driver</td>\n",
              "      <td>1976</td>\n",
              "      <td>113</td>\n",
              "      <td>Crime</td>\n",
              "      <td>8.3</td>\n",
              "      <td>1.3</td>\n",
              "      <td>1</td>\n",
              "      <td>14</td>\n",
              "    </tr>\n",
              "    <tr>\n",
              "      <th>17</th>\n",
              "      <td>The Shawshank Redemption</td>\n",
              "      <td>1994</td>\n",
              "      <td>142</td>\n",
              "      <td>Crime</td>\n",
              "      <td>9.3</td>\n",
              "      <td>25.0</td>\n",
              "      <td>0</td>\n",
              "      <td>16</td>\n",
              "    </tr>\n",
              "    <tr>\n",
              "      <th>18</th>\n",
              "      <td>Interstellar</td>\n",
              "      <td>2014</td>\n",
              "      <td>169</td>\n",
              "      <td>Adventure</td>\n",
              "      <td>8.6</td>\n",
              "      <td>165.0</td>\n",
              "      <td>0</td>\n",
              "      <td>10</td>\n",
              "    </tr>\n",
              "    <tr>\n",
              "      <th>19</th>\n",
              "      <td>Casino</td>\n",
              "      <td>1995</td>\n",
              "      <td>178</td>\n",
              "      <td>Biography</td>\n",
              "      <td>8.2</td>\n",
              "      <td>50.0</td>\n",
              "      <td>0</td>\n",
              "      <td>18</td>\n",
              "    </tr>\n",
              "    <tr>\n",
              "      <th>20</th>\n",
              "      <td>The Goodfellas</td>\n",
              "      <td>1990</td>\n",
              "      <td>145</td>\n",
              "      <td>Biography</td>\n",
              "      <td>8.7</td>\n",
              "      <td>25.0</td>\n",
              "      <td>0</td>\n",
              "      <td>14</td>\n",
              "    </tr>\n",
              "    <tr>\n",
              "      <th>21</th>\n",
              "      <td>Blue is the Warmest Colour</td>\n",
              "      <td>2013</td>\n",
              "      <td>179</td>\n",
              "      <td>Romance</td>\n",
              "      <td>7.8</td>\n",
              "      <td>4.5</td>\n",
              "      <td>1</td>\n",
              "      <td>18</td>\n",
              "    </tr>\n",
              "    <tr>\n",
              "      <th>22</th>\n",
              "      <td>Black Swan</td>\n",
              "      <td>2010</td>\n",
              "      <td>108</td>\n",
              "      <td>Thriller</td>\n",
              "      <td>8.0</td>\n",
              "      <td>13.0</td>\n",
              "      <td>0</td>\n",
              "      <td>16</td>\n",
              "    </tr>\n",
              "    <tr>\n",
              "      <th>23</th>\n",
              "      <td>Back to the Future</td>\n",
              "      <td>1985</td>\n",
              "      <td>116</td>\n",
              "      <td>Sci-fi</td>\n",
              "      <td>8.5</td>\n",
              "      <td>19.0</td>\n",
              "      <td>0</td>\n",
              "      <td>0</td>\n",
              "    </tr>\n",
              "    <tr>\n",
              "      <th>24</th>\n",
              "      <td>The Wave</td>\n",
              "      <td>2008</td>\n",
              "      <td>107</td>\n",
              "      <td>Thriller</td>\n",
              "      <td>7.6</td>\n",
              "      <td>5.5</td>\n",
              "      <td>1</td>\n",
              "      <td>16</td>\n",
              "    </tr>\n",
              "    <tr>\n",
              "      <th>25</th>\n",
              "      <td>Whiplash</td>\n",
              "      <td>2014</td>\n",
              "      <td>106</td>\n",
              "      <td>Drama</td>\n",
              "      <td>8.5</td>\n",
              "      <td>3.3</td>\n",
              "      <td>1</td>\n",
              "      <td>12</td>\n",
              "    </tr>\n",
              "    <tr>\n",
              "      <th>26</th>\n",
              "      <td>The Grand Hotel Budapest</td>\n",
              "      <td>2014</td>\n",
              "      <td>100</td>\n",
              "      <td>Crime</td>\n",
              "      <td>8.1</td>\n",
              "      <td>25.5</td>\n",
              "      <td>0</td>\n",
              "      <td>14</td>\n",
              "    </tr>\n",
              "    <tr>\n",
              "      <th>27</th>\n",
              "      <td>Jumanji</td>\n",
              "      <td>1995</td>\n",
              "      <td>104</td>\n",
              "      <td>Fantasy</td>\n",
              "      <td>6.9</td>\n",
              "      <td>65.0</td>\n",
              "      <td>0</td>\n",
              "      <td>12</td>\n",
              "    </tr>\n",
              "    <tr>\n",
              "      <th>28</th>\n",
              "      <td>The Eternal Sunshine of the Spotless Mind</td>\n",
              "      <td>2004</td>\n",
              "      <td>108</td>\n",
              "      <td>Drama</td>\n",
              "      <td>8.3</td>\n",
              "      <td>20.0</td>\n",
              "      <td>0</td>\n",
              "      <td>14</td>\n",
              "    </tr>\n",
              "    <tr>\n",
              "      <th>29</th>\n",
              "      <td>Chicago</td>\n",
              "      <td>2002</td>\n",
              "      <td>113</td>\n",
              "      <td>Comedy</td>\n",
              "      <td>7.2</td>\n",
              "      <td>45.0</td>\n",
              "      <td>0</td>\n",
              "      <td>12</td>\n",
              "    </tr>\n",
              "  </tbody>\n",
              "</table>\n",
              "</div>"
            ],
            "text/plain": [
              "                                         name  year  ...  foreign age_restriction\n",
              "0                                   Toy Story  1995  ...        0               0\n",
              "1                                       Akira  1998  ...        1              14\n",
              "2                          The Breakfast Club  1985  ...        0              14\n",
              "3                                  The Artist  2011  ...        1              12\n",
              "4                                Modern Times  1936  ...        0              10\n",
              "5                                  Fight Club  1999  ...        0              18\n",
              "6                                 City of God  2002  ...        1              18\n",
              "7                            The Untouchables  1987  ...        0              14\n",
              "8                        Star Wars Episode IV  1977  ...        0              10\n",
              "9                             American Beauty  1999  ...        0              14\n",
              "10                                       Room  2015  ...        1              14\n",
              "11                            Dr. Strangelove  1964  ...        1              10\n",
              "12                                   The Ring  1998  ...        1              18\n",
              "13            Monty Python and the Holy Grail  1975  ...        1              18\n",
              "14                        High School Musical  2006  ...        0               0\n",
              "15                          Shaun of the Dead  2004  ...        1              18\n",
              "16                                Taxi Driver  1976  ...        1              14\n",
              "17                   The Shawshank Redemption  1994  ...        0              16\n",
              "18                               Interstellar  2014  ...        0              10\n",
              "19                                     Casino  1995  ...        0              18\n",
              "20                             The Goodfellas  1990  ...        0              14\n",
              "21                 Blue is the Warmest Colour  2013  ...        1              18\n",
              "22                                 Black Swan  2010  ...        0              16\n",
              "23                         Back to the Future  1985  ...        0               0\n",
              "24                                   The Wave  2008  ...        1              16\n",
              "25                                   Whiplash  2014  ...        1              12\n",
              "26                   The Grand Hotel Budapest  2014  ...        0              14\n",
              "27                                    Jumanji  1995  ...        0              12\n",
              "28  The Eternal Sunshine of the Spotless Mind  2004  ...        0              14\n",
              "29                                    Chicago  2002  ...        0              12\n",
              "\n",
              "[30 rows x 8 columns]"
            ]
          },
          "metadata": {},
          "execution_count": 2
        }
      ]
    },
    {
      "cell_type": "markdown",
      "metadata": {
        "id": "cgvXHfuTUmqj"
      },
      "source": [
        "##2.- Duración de película, rating y valor económico\n",
        "1. length_min: la variable significa cuánto tiempo dura en minutos cada película\n",
        "2. average_rating: significa el valor de aceptación \n",
        "3. cost_millions: significa el valor económico de la película"
      ]
    },
    {
      "cell_type": "code",
      "metadata": {
        "colab": {
          "base_uri": "https://localhost:8080/"
        },
        "id": "pGsc3V6LWCp3",
        "outputId": "ca2a632e-ab49-4ed4-cce5-64e912a639a0"
      },
      "source": [
        "print(\"Descripcion de Duracion de pelicula (length_min)\\n\",peliculas.loc[:,'length_min'].describe())\n",
        "print(\"\\n\")\n",
        "print(\"Descripcion de valor de aceptación (average_rating)\\n\",peliculas.loc[:,'average_rating'].describe())\n",
        "print(\"\\n\")\n",
        "print(\"Descripcion de costo de la pelicula (cost_millions)\\n\",peliculas.loc[:,'cost_millions'].describe())"
      ],
      "execution_count": 3,
      "outputs": [
        {
          "output_type": "stream",
          "name": "stdout",
          "text": [
            "Descripcion de Duracion de pelicula (length_min)\n",
            " count     30.000000\n",
            "mean     116.800000\n",
            "std       25.306943\n",
            "min       81.000000\n",
            "25%       99.250000\n",
            "50%      110.500000\n",
            "75%      124.250000\n",
            "max      179.000000\n",
            "Name: length_min, dtype: float64\n",
            "\n",
            "\n",
            "Descripcion de valor de aceptación (average_rating)\n",
            " count    30.000000\n",
            "mean      8.103333\n",
            "std       0.747171\n",
            "min       5.200000\n",
            "25%       7.925000\n",
            "50%       8.300000\n",
            "75%       8.500000\n",
            "max       9.300000\n",
            "Name: average_rating, dtype: float64\n",
            "\n",
            "\n",
            "Descripcion de costo de la pelicula (cost_millions)\n",
            " count     30.000000\n",
            "mean      22.300000\n",
            "std       32.358775\n",
            "min        0.400000\n",
            "25%        3.525000\n",
            "50%       13.000000\n",
            "75%       25.000000\n",
            "max      165.000000\n",
            "Name: cost_millions, dtype: float64\n"
          ]
        }
      ]
    },
    {
      "cell_type": "markdown",
      "metadata": {
        "id": "SdkBYs19gJ8c"
      },
      "source": [
        "##Como podemos ver la duracion de las peliculas ronda sobre 116 minutos, el valor de aceptación o rating al rededor de 8.1, el costo de la pelicula en promedio 22.3 millones "
      ]
    },
    {
      "cell_type": "markdown",
      "metadata": {
        "id": "UnG9qGtHvlUK"
      },
      "source": [
        "# 3.- Frecuencia de los generos de las peliculas"
      ]
    },
    {
      "cell_type": "code",
      "metadata": {
        "colab": {
          "base_uri": "https://localhost:8080/"
        },
        "id": "MjnnKzlHvkMJ",
        "outputId": "e295f11a-1b52-40a8-bf22-c434b45a5147"
      },
      "source": [
        "pd.value_counts(peliculas['genre'])"
      ],
      "execution_count": 4,
      "outputs": [
        {
          "output_type": "execute_result",
          "data": {
            "text/plain": [
              "Drama        7\n",
              "Comedy       5\n",
              "Crime        4\n",
              "Biography    2\n",
              "Animation    2\n",
              "Romance      2\n",
              "Horror       2\n",
              "Thriller     2\n",
              "Action       1\n",
              "Fantasy      1\n",
              "Adventure    1\n",
              "Sci-fi       1\n",
              "Name: genre, dtype: int64"
            ]
          },
          "metadata": {},
          "execution_count": 4
        }
      ]
    },
    {
      "cell_type": "markdown",
      "metadata": {
        "id": "57c1D853ou9m"
      },
      "source": [
        "Los generos más frecuentes en el registro de datos son drama y comedia con 7 y 5 peliculas, las demas solo tienen 1 0 2 peliculas en su genero "
      ]
    },
    {
      "cell_type": "markdown",
      "metadata": {
        "id": "yoWHbIqywbJ1"
      },
      "source": [
        "##Visualizar (hacer gráfica) mediante diagrama histograma las variables cuantitativas de duración de película, rating y valor económico"
      ]
    },
    {
      "cell_type": "code",
      "metadata": {
        "colab": {
          "base_uri": "https://localhost:8080/",
          "height": 852
        },
        "id": "W_YIV8qdwlmY",
        "outputId": "377edac6-31ca-4090-b4da-80a4db21a529"
      },
      "source": [
        "import matplotlib.pyplot as plot\n",
        "promed=peliculas.loc[:,'length_min']\n",
        "plot.hist(x=promed, color='#45E6D7',rwidth=0.85)\n",
        "plot.title('Duracion de la pelicula')\n",
        "plot.xlabel('minutos')\n",
        "plot.show()\n",
        "\n",
        "promed1=peliculas.loc[:,'average_rating']\n",
        "plot.hist(x=promed1, color='#33FF7D',rwidth=0.85)\n",
        "plot.title('Rating de las peliculas')\n",
        "plot.xlabel('Calificación de rating')\n",
        "plot.show()\n",
        "\n",
        "promed2=peliculas.loc[:,'cost_millions']\n",
        "plot.hist(x=promed2, color='#6670EA',rwidth=0.85)\n",
        "plot.title('Costo de la pelicula')\n",
        "plot.xlabel('Costo de la pelicula (En millones)')\n",
        "plot.show()"
      ],
      "execution_count": 5,
      "outputs": [
        {
          "output_type": "display_data",
          "data": {
            "image/png": "[encoded data removed]",
            "text/plain": [
              "<Figure size 432x288 with 1 Axes>"
            ]
          },
          "metadata": {
            "needs_background": "light"
          }
        },
        {
          "output_type": "display_data",
          "data": {
            "image/png": "[encoded data removed]",
            "text/plain": [
              "<Figure size 432x288 with 1 Axes>"
            ]
          },
          "metadata": {
            "needs_background": "light"
          }
        },
        {
          "output_type": "display_data",
          "data": {
            "image/png": "[encoded data removed]",
            "text/plain": [
              "<Figure size 432x288 with 1 Axes>"
            ]
          },
          "metadata": {
            "needs_background": "light"
          }
        }
      ]
    },
    {
      "cell_type": "markdown",
      "metadata": {
        "id": "elHk9ik51OR9"
      },
      "source": [
        "# 5.- Visualizar (hacer gráfica) mediante diagrama de barra la variable cualitativa género."
      ]
    },
    {
      "cell_type": "code",
      "metadata": {
        "colab": {
          "base_uri": "https://localhost:8080/",
          "height": 323
        },
        "id": "UI8twCjQ1XEn",
        "outputId": "74ed2422-5095-4317-a887-66a687504604"
      },
      "source": [
        "plot = peliculas['genre'].value_counts().plot(kind='bar',\n",
        "                                            \n",
        "                                            title='Generos de las peliculas'\n",
        "                                           )"
      ],
      "execution_count": null,
      "outputs": [
        {
          "output_type": "display_data",
          "data": {
            "image/png": "[encoded data removed]",
            "text/plain": [
              "<Figure size 432x288 with 1 Axes>"
            ]
          },
          "metadata": {
            "needs_background": "light"
          }
        }
      ]
    },
    {
      "cell_type": "markdown",
      "metadata": {
        "id": "Y6Kga68Birod"
      },
      "source": [
        "# Interpretación\n",
        "El analisis de datos que hicimos fue con el conjunto de datos de movies-db. Los datos se encuentran en la direccion de github y contiene 30 registros y 8 variables. Para este analisis fue necesario sacar medias y desviaciones std de variables de interes como duracion de la pelicula, rating y costo en millones. Tambien se sacó la frecuencia de los generos de las peliculas que a la cabeza se encuentra el genero drama con 7 peliculas seguido de comedia con 5 peliculas, tambien se hizo un histograma de las variables de interes para ver los datos de manera gráfica\n",
        "\n"
      ]
    }
  ]
}