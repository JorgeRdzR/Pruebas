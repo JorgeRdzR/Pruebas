{
  "nbformat": 4,
  "nbformat_minor": 0,
  "metadata": {
    "colab": {
      "name": "Caso 1 analisis descriptivo de los promedios.ipynb",
      "provenance": [],
      "collapsed_sections": [],
      "include_colab_link": true
    },
    "kernelspec": {
      "name": "python3",
      "display_name": "Python 3"
    },
    "language_info": {
      "name": "python"
    }
  },
  "cells": [
    {
      "cell_type": "markdown",
      "metadata": {
        "id": "view-in-github",
        "colab_type": "text"
      },
      "source": [
        "<a href=\"https://colab.research.google.com/github/JorgeRdzR/Pruebas/blob/main/Caso_1_analisis_descriptivo_de_los_promedios.ipynb\" target=\"_parent\"><img src=\"https://colab.research.google.com/assets/colab-badge.svg\" alt=\"Open In Colab\"/></a>"
      ]
    },
    {
      "cell_type": "markdown",
      "metadata": {
        "id": "M18OHiWBhEv7"
      },
      "source": [
        "# Importar datos\n",
        "\n",
        "## Objetivo\n",
        "Leer datos de un archivo csv del conjunto de promedios de alumnos y analizar las observaciones\n",
        "\n",
        "## Descripción \n",
        "\n",
        "Leer el archivo de promedios.csv y determinar algunos estadísticos\n",
        "\n",
        "Determinar la media y la desviación estándar de los datos\n",
        "\n",
        "Elaborar un histograma de los datos para identificar frecuencias numéricas\n",
        "\n",
        "## Desarrollo\n",
        "\n",
        "### Importar los datos\n",
        "Se utliza la función read_csv() de la librería pandas para importar daos en formato csv, importamos los datos con la dirección URL.\n",
        "\n",
        "\n",
        "\n"
      ]
    },
    {
      "cell_type": "code",
      "metadata": {
        "id": "lGOPxLXoiFGb"
      },
      "source": [
        "import pandas as pd\n",
        "promedios = pd.read_csv(\"https://raw.githubusercontent.com/rpizarrog/Analisis-Inteligente-de-datos-prueba/main/datos/promedios.csv\")\n",
        "\n"
      ],
      "execution_count": 1,
      "outputs": []
    },
    {
      "cell_type": "code",
      "metadata": {
        "id": "bYc8RkV6hEK1"
      },
      "source": [
        ""
      ],
      "execution_count": null,
      "outputs": []
    },
    {
      "cell_type": "markdown",
      "metadata": {
        "id": "DBeQZz6YidSJ"
      },
      "source": [
        "### Mostrar los datos\n",
        "Mostramos una parte de los datos \n"
      ]
    },
    {
      "cell_type": "code",
      "metadata": {
        "colab": {
          "base_uri": "https://localhost:8080/"
        },
        "id": "xxatGNDahG9R",
        "outputId": "5f94e990-c04b-4014-ff70-92faddc59348"
      },
      "source": [
        "print(promedios)"
      ],
      "execution_count": 2,
      "outputs": [
        {
          "output_type": "stream",
          "name": "stdout",
          "text": [
            "        no   promedio\n",
            "0        1  91.608914\n",
            "1        2  86.685638\n",
            "2        3  84.062916\n",
            "3        4  80.946240\n",
            "4        5  88.497999\n",
            "...    ...        ...\n",
            "5595  5596  87.749383\n",
            "5596  5597  86.643837\n",
            "5597  5598  88.444287\n",
            "5598  5599  88.198064\n",
            "5599  5600  83.749403\n",
            "\n",
            "[5600 rows x 2 columns]\n"
          ]
        }
      ]
    },
    {
      "cell_type": "markdown",
      "metadata": {
        "id": "OfvoimvXkbHq"
      },
      "source": [
        "Determinar la media con la función mean()"
      ]
    },
    {
      "cell_type": "code",
      "metadata": {
        "colab": {
          "base_uri": "https://localhost:8080/"
        },
        "id": "j4-U5Azsk5E6",
        "outputId": "aea1b675-a344-4912-dd09-991a99699090"
      },
      "source": [
        "import numpy as np\n",
        "\n",
        "np.mean(promedios, 0)\n",
        "\n",
        "\n",
        "\n"
      ],
      "execution_count": 3,
      "outputs": [
        {
          "output_type": "execute_result",
          "data": {
            "text/plain": [
              "no          2800.500000\n",
              "promedio      84.014145\n",
              "dtype: float64"
            ]
          },
          "metadata": {},
          "execution_count": 3
        }
      ]
    },
    {
      "cell_type": "markdown",
      "metadata": {
        "id": "44mubW4jtQMy"
      },
      "source": [
        "### Acceder a promedio como variable de interés"
      ]
    },
    {
      "cell_type": "markdown",
      "metadata": {
        "id": "XRKasqM5sJYE"
      },
      "source": [
        "Acceder solo a la variable de interés promedio del conjunto de datos y determinar la media y la desviación estaándar\n"
      ]
    },
    {
      "cell_type": "markdown",
      "metadata": {
        "id": "Icp24HFlNSKw"
      },
      "source": [
        "Determinamos la media con la función mean y la funcion loc"
      ]
    },
    {
      "cell_type": "code",
      "metadata": {
        "colab": {
          "base_uri": "https://localhost:8080/"
        },
        "id": "jLAcdsuEsL8j",
        "outputId": "9b2e7599-8605-4a1b-f8bc-01f30f016b49"
      },
      "source": [
        "np.mean(promedios.loc[:, 'promedio'])\n"
      ],
      "execution_count": 4,
      "outputs": [
        {
          "output_type": "execute_result",
          "data": {
            "text/plain": [
              "84.01414500206607"
            ]
          },
          "metadata": {},
          "execution_count": 4
        }
      ]
    },
    {
      "cell_type": "markdown",
      "metadata": {
        "id": "gzy9Z1TrNYW4"
      },
      "source": [
        "Determinamos la desviación con la función std"
      ]
    },
    {
      "cell_type": "code",
      "metadata": {
        "colab": {
          "base_uri": "https://localhost:8080/"
        },
        "id": "-AF-OGoftI8i",
        "outputId": "c3b31a58-c73d-486d-8c59-348fa479b68c"
      },
      "source": [
        "np.std(promedios.loc[:, 'promedio'])"
      ],
      "execution_count": 5,
      "outputs": [
        {
          "output_type": "execute_result",
          "data": {
            "text/plain": [
              "4.97091611849249"
            ]
          },
          "metadata": {},
          "execution_count": 5
        }
      ]
    },
    {
      "cell_type": "markdown",
      "metadata": {
        "id": "y8EfFygbNg2k"
      },
      "source": [
        "**Otra manera de determinar la media y desviación es convinando las funciones loc y describe.**"
      ]
    },
    {
      "cell_type": "code",
      "metadata": {
        "colab": {
          "base_uri": "https://localhost:8080/"
        },
        "id": "XJf3C5ert0h6",
        "outputId": "0fc010ac-7db1-4177-f064-f328e7164266"
      },
      "source": [
        "promedios.loc[:,'promedio'].describe()"
      ],
      "execution_count": 6,
      "outputs": [
        {
          "output_type": "execute_result",
          "data": {
            "text/plain": [
              "count    5600.000000\n",
              "mean       84.014145\n",
              "std         4.971360\n",
              "min        67.421455\n",
              "25%        80.790432\n",
              "50%        84.006861\n",
              "75%        87.243679\n",
              "max       100.691558\n",
              "Name: promedio, dtype: float64"
            ]
          },
          "metadata": {},
          "execution_count": 6
        }
      ]
    },
    {
      "cell_type": "markdown",
      "metadata": {
        "id": "rB7fVU9ZN_DK"
      },
      "source": [
        "**Hacemos un histograma para ver graficamente los datos de la variable promedio lo cual nos sirve para que sea un poco más entendible de interpretar**"
      ]
    },
    {
      "cell_type": "code",
      "metadata": {
        "colab": {
          "base_uri": "https://localhost:8080/",
          "height": 295
        },
        "id": "Q-y6kkEr09D7",
        "outputId": "a5b12a5a-0930-4188-d3e2-f2e81fddf542"
      },
      "source": [
        "import matplotlib.pyplot as plot\n",
        "promed=promedios.loc[:,'promedio']\n",
        "plot.hist(x=promed, color='#FF0000',rwidth=0.85)\n",
        "plot.title('Histograma de promedios')\n",
        "plot.xlabel('Promedios')\n",
        "plot.ylabel('Cantidades')\n",
        "plot.show()"
      ],
      "execution_count": 11,
      "outputs": [
        {
          "output_type": "display_data",
          "data": {
            "image/png": "[encoded data removed]",
            "text/plain": [
              "<Figure size 432x288 with 1 Axes>"
            ]
          },
          "metadata": {
            "needs_background": "light"
          }
        }
      ]
    },
    {
      "cell_type": "markdown",
      "metadata": {
        "id": "K9HeILm3QWP8"
      },
      "source": [
        "# Interpretación\n",
        "Hay datos cuantitativos (promedios de los alumnos) que rondan entre 70 y 100, el valor medio se encuentra entre los valores de 80 y 85, siendo estos los valores más frecuentes como se puede observar en el histograma.\n",
        "Los valores exactos son:\n",
        "1.   media: 84.14\n",
        "2.   std: 4.97 \n",
        "\n",
        "para este caso importamos los datos .csv desde una URL, despues con las funciones mean y std calculamos la media y la desviación, tambien las calculamos conviando dos funciones que son la loc y describe, despues en el histograma visualizamos los datos de manera grafica a si como los valor por abajo y encima de la media.\n",
        "\n",
        "\n",
        "\n"
      ]
    }
  ]
}